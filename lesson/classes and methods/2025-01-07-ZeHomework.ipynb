{
 "cells": [
  {
   "cell_type": "raw",
   "metadata": {
    "vscode": {
     "languageId": "raw"
    }
   },
   "source": [
    "---\n",
    "layout: post\n",
    "title: Homework\n",
    "description:  Homework for classes and methods lessons.\n",
    "type: issues \n",
    "comments: true\n",
    "---"
   ]
  },
  {
   "cell_type": "markdown",
   "metadata": {},
   "source": [
    "## Homework "
   ]
  },
  {
   "cell_type": "markdown",
   "metadata": {},
   "source": [
    "# JavaScript Classes and Methods - Interactive Homework\n",
    "In this notebook, you will learn about classes and methods in JavaScript. After the lesson, complete the tasks by editing the code cells.\n",
    "\n",
    "### What are Classes and Methods?\n",
    "- **Class**: A blueprint for creating objects with properties and methods.\n",
    "- **Method**: A function inside a class that defines an object's behavior.\n",
    "\n"
   ]
  },
  {
   "cell_type": "markdown",
   "metadata": {},
   "source": [
    "## Example: Class for food\n",
    "\n",
    "Below is an example of a JavaScript class for creating different foods. The class has:\n",
    "1. A **constructor** to initialize properties (brand and model).\n",
    "2. Two **methods** (`displayInfo` and `start`) to define behaviors.\n"
   ]
  },
  {
   "cell_type": "markdown",
   "metadata": {},
   "source": [
    "In the code cell below i would like for you to create a fun fridge mini game where you are looking for a good midnight snack in the dark and you pul out a random food item good or bad.\n",
    "You should be able to complete this Homework activity within 15-20 minutes assuming you fully understand the content presented in our lesson. Alhtough, i do understand that some people may get stuck and need extra time to complete the homework. I think classes and methods are a really good thing to have on a large scale project. Although you could make the game below work with different methoods. Please do not use `chat gpt` I worked hard making this.\n",
    "# What to Do\n",
    "I want you to look through the code and complete the missing pieces and write new code lines to make the game funtion.\n",
    "this is basically a `gambling simulator` but with food.\n",
    "I have porvided \"hints\" in the code.\n",
    "### if you want a challenge dont read the <span style=\"color: green;\">GREEN</span>\n",
    "the green next to code it the real hint if you look at the // above there is description of what you need to do\n",
    "starting from a little above the bottom at the fill in the blank or top is the easiest the `middle is the hardest`.\n",
    "## Grab item\n",
    "I want you to Create a grab item function that will reference the class to randomly pick a food item"
   ]
  },
  {
   "cell_type": "code",
   "execution_count": 16,
   "metadata": {
    "vscode": {
     "languageId": "javascript"
    }
   },
   "outputs": [
    {
     "data": {
      "application/javascript": "// Fridge Mini-Game: Enhanced with scores and quality feedback\n\n//place class + constructor here\nclass FridgeGame {\n  constructor() {\n    // Array of items in the fridge with their scores\n    this.fridgeItems = [\n      { name: \"Piece of pizza\", score: 10 },\n      { name: \"Stale sandwich\", score: 4 },\n      { name: \"Half-eaten apple\", score: 7 },\n      { name: \"Yogurt\", score: 5 },\n      { name: \"Cold soda\", score: 8 },\n      { name: \"Leftover pasta\", score: 6 },\n      { name: \"Bag of chips\", score: 9 },\n      { name: \"Moldy bread\", score: 2 },\n      { name: \"Chocolate bar\", score: 10 },\n      { name: \"Pickles\", score: 3 }\n    ];\n  }\n\n  // Method to pick a random item from the fridge\n  grabItem() {\n    const randomIndex = Math.floor(Math.random() * this.fridgeItems.length); // Select random item\n    return this.fridgeItems[randomIndex]; // Return the random item\n  }\n\n  // Method to classify the find based on its score\n  classifyFind(score) {\n    if (score >= 8) {\n      return \"great! You hit the jackpot!\"; // Excellent items\n    } else if (score >= 5) {\n      return \"meh, it's okay.\"; // Average items\n    } else {\n      return \"bad... I wouldn't eat it.\"; // Low score items\n    }\n  }\n\n  // Reference method to start the game\n  play() {\n    console.log(\"You open the fridge in the dark, hoping for a snack...\");\n    const item = this.grabItem(); // Grab a random item\n    console.log(`You grabbed a ${item.name}!`);\n    // Get feedback based on the item's score\n    const feedback = this.classifyFind(item.score);\n    console.log(`It is ${feedback} Score: ${item.score}`);\n  }\n}\n\n// Create an instance of the game\nconst fridgeGame = new FridgeGame();\n\n// Start the game by calling the play method\nfridgeGame.play();\n\n",
      "text/plain": [
       "<IPython.core.display.Javascript object>"
      ]
     },
     "metadata": {},
     "output_type": "display_data"
    }
   ],
   "source": [
    "%%js\n",
    "// Fridge Mini-Game: Enhanced with scores and quality feedback\n",
    "\n",
    "//place class + constructor here\n",
    "class FridgeGame {\n",
    "  constructor() {\n",
    "    // Array of items in the fridge with their scores\n",
    "    this.fridgeItems = [\n",
    "      { name: \"Piece of pizza\", score: 10 },\n",
    "      { name: \"Stale sandwich\", score: 4 },\n",
    "      { name: \"Half-eaten apple\", score: 7 },\n",
    "      { name: \"Yogurt\", score: 5 },\n",
    "      { name: \"Cold soda\", score: 8 },\n",
    "      { name: \"Leftover pasta\", score: 6 },\n",
    "      { name: \"Bag of chips\", score: 9 },\n",
    "      { name: \"Moldy bread\", score: 2 },\n",
    "      { name: \"Chocolate bar\", score: 10 },\n",
    "      { name: \"Pickles\", score: 3 }\n",
    "    ];\n",
    "  }\n",
    "\n",
    "  // Method to pick a random item from the fridge\n",
    "  grabItem() {\n",
    "    const randomIndex = Math.floor(Math.random() * this.fridgeItems.length); // Select random item\n",
    "    return this.fridgeItems[randomIndex]; // Return the random item\n",
    "  }\n",
    "\n",
    "  // Method to classify the find based on its score\n",
    "  classifyFind(score) {\n",
    "    if (score >= 8) {\n",
    "      return \"great! You hit the jackpot!\"; // Excellent items\n",
    "    } else if (score >= 5) {\n",
    "      return \"meh, it's okay.\"; // Average items\n",
    "    } else {\n",
    "      return \"bad... I wouldn't eat it.\"; // Low score items\n",
    "    }\n",
    "  }\n",
    "\n",
    "  // Reference method to start the game\n",
    "  play() {\n",
    "    console.log(\"You open the fridge in the dark, hoping for a snack...\");\n",
    "    const item = this.grabItem(); // Grab a random item\n",
    "    console.log(`You grabbed a ${item.name}!`);\n",
    "    // Get feedback based on the item's score\n",
    "    const feedback = this.classifyFind(item.score);\n",
    "    console.log(`It is ${feedback} Score: ${item.score}`);\n",
    "  }\n",
    "}\n",
    "\n",
    "// Create an instance of the game\n",
    "const fridgeGame = new FridgeGame();\n",
    "\n",
    "// Start the game by calling the play method\n",
    "fridgeGame.play();\n",
    "\n"
   ]
  }
 ],
 "metadata": {
  "kernelspec": {
   "display_name": "Python 3",
   "language": "python",
   "name": "python3"
  },
  "language_info": {
   "codemirror_mode": {
    "name": "ipython",
    "version": 3
   },
   "file_extension": ".py",
   "mimetype": "text/x-python",
   "name": "python",
   "nbconvert_exporter": "python",
   "pygments_lexer": "ipython3",
   "version": "3.12.5"
  }
 },
 "nbformat": 4,
 "nbformat_minor": 2
}
