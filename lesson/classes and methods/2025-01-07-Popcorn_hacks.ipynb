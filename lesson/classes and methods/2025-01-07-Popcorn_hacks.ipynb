{
 "cells": [
  {
   "cell_type": "raw",
   "metadata": {
    "vscode": {
     "languageId": "raw"
    }
   },
   "source": [
    "---\n",
    "layout: post\n",
    "title: Popcorn Hacks\n",
    "description:  Popcorn Hacks for lessons.\n",
    "type: issues \n",
    "comments: true\n",
    "---"
   ]
  },
  {
   "cell_type": "markdown",
   "metadata": {},
   "source": [
    "# JavaScript Classes and Methods - Interactive Popcorns \n",
    "In this notebook, you will learn about classes and methods in JavaScript. During the lesson, use these to enhance your understanding of clases and methods\n",
    "### \n",
    "- **Objectivs**: Do something - Change Later\n",
    "- **How**:\n",
    "\n"
   ]
  },
  {
   "cell_type": "code",
   "execution_count": 14,
   "metadata": {
    "vscode": {
     "languageId": "javascript"
    }
   },
   "outputs": [
    {
     "data": {
      "application/javascript": "// Exercise 1: Create a Rectangle (aka a fridge)\nclass Rectangle {\n  constructor(width, height) {\n      this.width = width;\n      this.height = height;\n  }\n\n  getArea() {\n      return this.width * this.height;\n  }\n}\n\n// Creating a rectangle (fridge)\nconst fridge = new Rectangle(20, 40);\nconsole.log(`Fridge area: ${fridge.getArea()} units²`);\n\n// Exercise 2: Change Dimensions Use the Rectangle to:\n// Part a.) Create a rectangle with a width of 20 and height of 40.\nconst rect1 = new Rectangle(20, 40);\nconsole.log(`Initial area: ${rect1.getArea()} units²`);\n\n// Part b.) Change the dimensions to make the area 200 units².\nrect1.width = 10; // Changing width to 10\nrect1.height = 20; // Changing height to 20\nconsole.log(`New area: ${rect1.getArea()} units²`);\n",
      "text/plain": [
       "<IPython.core.display.Javascript object>"
      ]
     },
     "metadata": {},
     "output_type": "display_data"
    }
   ],
   "source": [
    "%%js\n",
    "// Exercise 1: Create a Rectangle (aka a fridge)\n",
    "class Rectangle {\n",
    "  constructor(width, height) {\n",
    "      this.width = width;\n",
    "      this.height = height;\n",
    "  }\n",
    "\n",
    "  getArea() {\n",
    "      return this.width * this.height;\n",
    "  }\n",
    "}\n",
    "\n",
    "// Creating a rectangle (fridge)\n",
    "const fridge = new Rectangle(20, 40);\n",
    "console.log(`Fridge area: ${fridge.getArea()} units²`);\n",
    "\n",
    "// Exercise 2: Change Dimensions Use the Rectangle to:\n",
    "// Part a.) Create a rectangle with a width of 20 and height of 40.\n",
    "const rect1 = new Rectangle(20, 40);\n",
    "console.log(`Initial area: ${rect1.getArea()} units²`);\n",
    "\n",
    "// Part b.) Change the dimensions to make the area 200 units².\n",
    "rect1.width = 10; // Changing width to 10\n",
    "rect1.height = 20; // Changing height to 20\n",
    "console.log(`New area: ${rect1.getArea()} units²`);"
   ]
  },
  {
   "cell_type": "code",
   "execution_count": 15,
   "metadata": {
    "vscode": {
     "languageId": "javascript"
    }
   },
   "outputs": [
    {
     "data": {
      "application/javascript": "\n// Exercise 3: Experiment with Areas\n// a.) Find all pairs of dimensions that give an area of 48 units².\nconst pairs = [];\nfor (let w = 1; w <= 48; w++) {\n    if (48 % w === 0) {\n        let h = 48 / w;\n        pairs.push([w, h]);\n    }\n}\nconsole.log(\"Pairs with area 48:\", pairs);\n",
      "text/plain": [
       "<IPython.core.display.Javascript object>"
      ]
     },
     "metadata": {},
     "output_type": "display_data"
    }
   ],
   "source": [
    "%%js\n",
    "\n",
    "// Exercise 3: Experiment with Areas\n",
    "// a.) Find all pairs of dimensions that give an area of 48 units².\n",
    "const pairs = [];\n",
    "for (let w = 1; w <= 48; w++) {\n",
    "    if (48 % w === 0) {\n",
    "        let h = 48 / w;\n",
    "        pairs.push([w, h]);\n",
    "    }\n",
    "}\n",
    "console.log(\"Pairs with area 48:\", pairs);"
   ]
  },
  {
   "cell_type": "code",
   "execution_count": 18,
   "metadata": {
    "vscode": {
     "languageId": "javascript"
    }
   },
   "outputs": [
    {
     "data": {
      "application/javascript": "\n// Exercise 4: Rectangle Class (Missing Methods)\n// Define the base Rectangle class\nclass Rectangle {\n  constructor(width, height) {\n      this.width = width;\n      this.height = height;\n  }\n\n  // Add method to calculate the perimeter of the rectangle\n  getPerimeter() {\n      return 2 * (this.width + this.height); // Perimeter formula: 2 * (width + height)\n  }\n}\n\n// Create an instance of the Rectangle class\nconst rect = new Rectangle(10, 5);\n\n// Log the perimeter\nconsole.log(rect.getPerimeter()); // Output should be 30\n",
      "text/plain": [
       "<IPython.core.display.Javascript object>"
      ]
     },
     "metadata": {},
     "output_type": "display_data"
    }
   ],
   "source": [
    "%%js\n",
    "\n",
    "// Exercise 4: Rectangle Class (Missing Methods)\n",
    "// Define the base Rectangle class\n",
    "class Rectangle {\n",
    "  constructor(width, height) {\n",
    "      this.width = width;\n",
    "      this.height = height;\n",
    "  }\n",
    "\n",
    "  // Add method to calculate the perimeter of the rectangle\n",
    "  getPerimeter() {\n",
    "      return 2 * (this.width + this.height); // Perimeter formula: 2 * (width + height)\n",
    "  }\n",
    "}\n",
    "\n",
    "// Create an instance of the Rectangle class\n",
    "const rect = new Rectangle(10, 5);\n",
    "\n",
    "// Log the perimeter\n",
    "console.log(rect.getPerimeter()); // Output should be 30"
   ]
  },
  {
   "cell_type": "code",
   "execution_count": 19,
   "metadata": {
    "vscode": {
     "languageId": "javascript"
    }
   },
   "outputs": [
    {
     "data": {
      "application/javascript": "\n// Exercise 5: Square Class (Missing Method)\nclass Square {\n  constructor(sideLength) {\n      this.sideLength = sideLength;\n  }\n\n  // Method to calculate the diagonal using Pythagoras' theorem\n  getDiagonal() {\n      return this.sideLength * Math.sqrt(2);\n  }\n}\n\nconst square = new Square(5);\nconsole.log(`Diagonal: ${square.getDiagonal().toFixed(2)}`) // Output should be 7.07 (sideLength * √2)\n",
      "text/plain": [
       "<IPython.core.display.Javascript object>"
      ]
     },
     "metadata": {},
     "output_type": "display_data"
    }
   ],
   "source": [
    "%%js\n",
    "\n",
    "// Exercise 5: Square Class (Missing Method)\n",
    "class Square {\n",
    "  constructor(sideLength) {\n",
    "      this.sideLength = sideLength;\n",
    "  }\n",
    "\n",
    "  // Method to calculate the diagonal using Pythagoras' theorem\n",
    "  getDiagonal() {\n",
    "      return this.sideLength * Math.sqrt(2);\n",
    "  }\n",
    "}\n",
    "\n",
    "const square = new Square(5);\n",
    "console.log(`Diagonal: ${square.getDiagonal().toFixed(2)}`) // Output should be 7.07 (sideLength * √2)"
   ]
  }
 ],
 "metadata": {
  "kernelspec": {
   "display_name": "Python 3",
   "language": "python",
   "name": "python3"
  },
  "language_info": {
   "codemirror_mode": {
    "name": "ipython",
    "version": 3
   },
   "file_extension": ".py",
   "mimetype": "text/x-python",
   "name": "python",
   "nbconvert_exporter": "python",
   "pygments_lexer": "ipython3",
   "version": "3.12.5"
  }
 },
 "nbformat": 4,
 "nbformat_minor": 2
}
