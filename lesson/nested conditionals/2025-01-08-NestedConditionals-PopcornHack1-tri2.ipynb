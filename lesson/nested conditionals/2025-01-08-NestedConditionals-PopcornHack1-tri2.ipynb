{
 "cells": [
  {
   "cell_type": "raw",
   "metadata": {
    "vscode": {
     "languageId": "raw"
    }
   },
   "source": [
    "---\n",
    "layout: post\n",
    "title: Nested Conditionals, Popcorn Hack One\n",
    "description:  First popcorn hack for nested conditonals\n",
    "type: issues \n",
    "comments: true\n",
    "---"
   ]
  },
  {
   "cell_type": "markdown",
   "metadata": {},
   "source": [
    "### Popcorn Hack 1\n",
    "\n",
    "This code has the option to let the player go on a ride of their choosing, and either lets them go on the ride or does not let them go on the ride based on their amount of tickets that they have. Try adding some code that makes it so that the code also takes into account the height of the person trying to ride the ride and have it be another constraint that determines whether or not the person goes on a ride."
   ]
  },
  {
   "cell_type": "code",
   "execution_count": 1,
   "metadata": {
    "vscode": {
     "languageId": "html"
    }
   },
   "outputs": [
    {
     "data": {
      "text/html": [
       "<!-- HTML output div -->\n",
       "<div id=\"message\"></div>\n",
       "<script>\n",
       "    function runWhenDOMLoaded() {\n",
       "        let ticketAmount = 60; // Makes the ticket amount be 60\n",
       "        let height = 150; // Adds a height variable (in cm)\n",
       "        let ride = \"Ferris Wheel\"; // Sets the ride that the person wants to ride on\n",
       "\n",
       "        const messageElement = document.getElementById(\"message\");\n",
       "\n",
       "        function displayMessage(message) {\n",
       "            console.log(message); // Log to console\n",
       "            messageElement.textContent = message; // Display on the webpage\n",
       "        }\n",
       "\n",
       "        // Function to check both ticket amount and height\n",
       "        function enoughTicketsAndHeight(requiredTickets, requiredHeight) {\n",
       "            if (ticketAmount >= requiredTickets) { // Corrected parameter name\n",
       "                if (height >= requiredHeight) {\n",
       "                    displayMessage(\"You have enough tickets and meet the height requirement! Yay! :D\");\n",
       "                } else {\n",
       "                    displayMessage(\"You have enough tickets, but you don't meet the height requirement... :(\");\n",
       "                }\n",
       "            } else {\n",
       "                displayMessage(\"You don't have enough tickets... :(\");\n",
       "            }\n",
       "        }\n",
       "\n",
       "        // Check conditions for each ride\n",
       "        if (ride === \"Roller Coaster\") {\n",
       "            enoughTicketsAndHeight(60, 140); // Roller Coaster requires 60 tickets and 140cm height\n",
       "        } else if (ride === \"Ferris Wheel\") {\n",
       "            enoughTicketsAndHeight(40, 120); // Ferris Wheel requires 40 tickets and 120cm height\n",
       "        }    \n",
       "    }\n",
       "\n",
       "    // Ensure the function runs only after the page loads\n",
       "    if (document.readyState === \"loading\") {\n",
       "        document.addEventListener(\"DOMContentLoaded\", runWhenDOMLoaded);\n",
       "    } else {\n",
       "        runWhenDOMLoaded();\n",
       "    }\n",
       "</script>\n"
      ],
      "text/plain": [
       "<IPython.core.display.HTML object>"
      ]
     },
     "metadata": {},
     "output_type": "display_data"
    }
   ],
   "source": [
    "%%html\n",
    "<!-- HTML output div -->\n",
    "<div id=\"message\"></div>\n",
    "<script>\n",
    "    function runWhenDOMLoaded() {\n",
    "        let ticketAmount = 60; // Makes the ticket amount be 60\n",
    "        let height = 150; // Adds a height variable (in cm)\n",
    "        let ride = \"Ferris Wheel\"; // Sets the ride that the person wants to ride on\n",
    "\n",
    "        const messageElement = document.getElementById(\"message\");\n",
    "\n",
    "        function displayMessage(message) {\n",
    "            console.log(message); // Log to console\n",
    "            messageElement.textContent = message; // Display on the webpage\n",
    "        }\n",
    "\n",
    "        // Function to check both ticket amount and height\n",
    "        function enoughTicketsAndHeight(requiredTickets, requiredHeight) {\n",
    "            if (ticketAmount >= requiredTickets) { // Corrected parameter name\n",
    "                if (height >= requiredHeight) {\n",
    "                    displayMessage(\"You have enough tickets and meet the height requirement! Yay! :D\");\n",
    "                } else {\n",
    "                    displayMessage(\"You have enough tickets, but you don't meet the height requirement... :(\");\n",
    "                }\n",
    "            } else {\n",
    "                displayMessage(\"You don't have enough tickets... :(\");\n",
    "            }\n",
    "        }\n",
    "\n",
    "        // Check conditions for each ride\n",
    "        if (ride === \"Roller Coaster\") {\n",
    "            enoughTicketsAndHeight(60, 140); // Roller Coaster requires 60 tickets and 140cm height\n",
    "        } else if (ride === \"Ferris Wheel\") {\n",
    "            enoughTicketsAndHeight(40, 120); // Ferris Wheel requires 40 tickets and 120cm height\n",
    "        }    \n",
    "    }\n",
    "\n",
    "    // Ensure the function runs only after the page loads\n",
    "    if (document.readyState === \"loading\") {\n",
    "        document.addEventListener(\"DOMContentLoaded\", runWhenDOMLoaded);\n",
    "    } else {\n",
    "        runWhenDOMLoaded();\n",
    "    }\n",
    "</script>"
   ]
  }
 ],
 "metadata": {
  "kernelspec": {
   "display_name": "Python 3",
   "language": "python",
   "name": "python3"
  },
  "language_info": {
   "codemirror_mode": {
    "name": "ipython",
    "version": 3
   },
   "file_extension": ".py",
   "mimetype": "text/x-python",
   "name": "python",
   "nbconvert_exporter": "python",
   "pygments_lexer": "ipython3",
   "version": "3.12.5"
  }
 },
 "nbformat": 4,
 "nbformat_minor": 2
}
