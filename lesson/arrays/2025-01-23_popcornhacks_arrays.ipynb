{
 "cells": [
  {
   "cell_type": "code",
   "execution_count": null,
   "metadata": {},
   "outputs": [],
   "source": [
    "---\n",
    "layout: post\n",
    "title: Variables Popcorn Hack 2\n",
    "description: Popcorn Hack 2 \n",
    "type: collab\n",
    "comments: false\n",
    "categories: [CSSE JavaScript Fundamentals]\n",
    "---"
   ]
  },
  {
   "cell_type": "code",
   "execution_count": 1,
   "metadata": {
    "vscode": {
     "languageId": "javascript"
    }
   },
   "outputs": [
    {
     "data": {
      "application/javascript": "let myArray = []; // create a variable\nconst length = myArray.length; // get the length of the array\nconsole.log(length); // print the length of the array in the console\n\n// myArray is the variable name, it should be printed into the console as zero \n",
      "text/plain": [
       "<IPython.core.display.Javascript object>"
      ]
     },
     "metadata": {},
     "output_type": "display_data"
    }
   ],
   "source": [
    "%%js\n",
    "let myArray = []; // create a variable\n",
    "const length = myArray.length; // get the length of the array\n",
    "console.log(length); // print the length of the array in the console\n",
    "\n",
    "// myArray is the variable name, it should be printed into the console as zero since the array is empty "
   ]
  }
 ],
 "metadata": {
  "kernelspec": {
   "display_name": "Python 3",
   "language": "python",
   "name": "python3"
  },
  "language_info": {
   "codemirror_mode": {
    "name": "ipython",
    "version": 3
   },
   "file_extension": ".py",
   "mimetype": "text/x-python",
   "name": "python",
   "nbconvert_exporter": "python",
   "pygments_lexer": "ipython3",
   "version": "3.13.1"
  }
 },
 "nbformat": 4,
 "nbformat_minor": 2
}
