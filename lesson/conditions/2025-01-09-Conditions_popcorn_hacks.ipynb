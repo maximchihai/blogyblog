{
 "cells": [
  {
   "cell_type": "code",
   "execution_count": null,
   "metadata": {},
   "outputs": [],
   "source": [
    "---\n",
    "layout: post\n",
    "title: Popcorn Hacks\n",
    "description: Popcorn hacks for conditions!\n",
    "categories: [CSSE JavaScript Fundamentals]\n",
    "courses: { csse: {week: 0}, csp: {week: 0 }, csa: {week: 0}}\n",
    "type: collab\n",
    "permalink: /csse/javascript/fundamentals/conditions_hacks\n",
    "author: Yasna Ahmadi, Katherine Law, Yuna Lee, Namira Sharif\n",
    "toc: true\n",
    "---"
   ]
  },
  {
   "cell_type": "markdown",
   "metadata": {},
   "source": [
    "# Popcorn Hacks!\n",
    "You're at the mall with your friends, and head into the Build-A-Bear store. Use conditionals to decide what kind of bear you want with different accessories! The employee comes up to you and explains the steps. She states...\n",
    "\n",
    "\"Choose Me: Pick that special furry friend — from a silly superhero to a sporty mascot and a cheerleading bunny to a snuggly teddy bear.\n",
    "Hear Me: Add a special sound effect to your furry friend.\n",
    "Stuff Me: Customize your creation with sounds, scents, stuffing and, of course, our iconic special heart that holds your love and wishes.\n",
    "Hug Me: Give your furry friend its first hug to make sure it’s stuffed just right.\n",
    "Dress Me: Turn up the fun with outfits and extras!\n",
    "Name Me: It’s official once your creation has a birth certificate of its bear-y own!\"\n",
    "\n",
    "### Hack 1: Simple If-Statement\n",
    "Create a variable based on what kind of stuffed animal you want."
   ]
  },
  {
   "cell_type": "code",
   "execution_count": 1,
   "metadata": {
    "vscode": {
     "languageId": "javascript"
    }
   },
   "outputs": [
    {
     "data": {
      "application/javascript": "let bearType = \"freddy faz\"; //Choose what kind of bear you want: Teddy or Unicorn (Example: let bearType = \"Teddyy\")\n\nif (bearType === \"freddy faz\") { //Put the same bear type from above into this line\n    console.log(\"You picked a snuggly freddy faz bear!\");\n}\n",
      "text/plain": [
       "<IPython.core.display.Javascript object>"
      ]
     },
     "metadata": {},
     "output_type": "display_data"
    }
   ],
   "source": [
    "%%js\n",
    "let bearType = \"freddy faz\"; //Choose what kind of bear you want: Teddy or Unicorn (Example: let bearType = \"Teddyy\")\n",
    "\n",
    "if (bearType === \"freddy faz\") { //Put the same bear type from above into this line\n",
    "    console.log(\"You picked a snuggly freddy faz bear!\");\n",
    "}"
   ]
  },
  {
   "cell_type": "markdown",
   "metadata": {},
   "source": [
    "### Hack 2: If-Else Statement\n",
    "Add a sound to the bear based on the type chosen."
   ]
  },
  {
   "cell_type": "code",
   "execution_count": 3,
   "metadata": {
    "vscode": {
     "languageId": "javascript"
    }
   },
   "outputs": [
    {
     "data": {
      "application/javascript": "let bearType = \"_____\"; //Put the same bear type as before.\n\nif (bearType ===\"Teddy\") {\n    console.log(\"Your Teddy snores...\");\n} else {\n    console.log(\"Your Unicorn neighs loud...\")\n}\n",
      "text/plain": [
       "<IPython.core.display.Javascript object>"
      ]
     },
     "metadata": {},
     "output_type": "display_data"
    }
   ],
   "source": [
    "%%js\n",
    "let bearType = \"freddy faz\"; //Put the same bear type as before.\n",
    "\n",
    "if (bearType ===\"Teddy\") {\n",
    "    console.log(\"Your Teddy snores...\");\n",
    "} else {\n",
    "    console.log(\"Your freddy faz is sigma...\")\n",
    "}\n"
   ]
  },
  {
   "cell_type": "markdown",
   "metadata": {},
   "source": [
    "### Hack 3: Else-If Statement\n",
    "Choose the stuffing type using an If-Else-If statement"
   ]
  },
  {
   "cell_type": "code",
   "execution_count": 2,
   "metadata": {
    "vscode": {
     "languageId": "javascript"
    }
   },
   "outputs": [
    {
     "data": {
      "application/javascript": "let stuffingType = \"______\"; //Choose a stuffing: Fluffy, Firm, or Squishy\n\nif (stuffingType === \"Fluffy\") {\n    console.log(\"Your bear will be extra soft and fluffy!\");\n} else if (stuffingType === \"Firm\") {\n    console.log (\"Your bear will have a firm, sturdy feel.\");\n} else {\n    console.log(\"Your bear will be nice and squishy!\");\n}\n",
      "text/plain": [
       "<IPython.core.display.Javascript object>"
      ]
     },
     "metadata": {},
     "output_type": "display_data"
    }
   ],
   "source": [
    "%%js\n",
    "let stuffingType = \"fluffy\"; //Choose a stuffing: Fluffy, Firm, or Squishy\n",
    "\n",
    "if (stuffingType === \"Fluffy\") {\n",
    "    console.log(\"Your bear will be extra soft and fluffy!\");\n",
    "} else if (stuffingType === \"Firm\") {\n",
    "    console.log (\"Your bear will have a firm, sturdy feel.\");\n",
    "} else {\n",
    "    console.log(\"Your bear will be nice and squishy!\");\n",
    "}"
   ]
  },
  {
   "cell_type": "markdown",
   "metadata": {},
   "source": [
    "### Hack 4: Switch Statement\n",
    "Use a switch statement to pick a bear outfit"
   ]
  },
  {
   "cell_type": "code",
   "execution_count": 5,
   "metadata": {
    "vscode": {
     "languageId": "javascript"
    }
   },
   "outputs": [
    {
     "data": {
      "application/javascript": "let bearOutfit = \"_____\"; // Choose an outfit: \"Superhero\", \"Cheerleader\", \"Pirate\", \"Princess\"\n\nswitch (bearOutfit) {\n    case \"Superhero\":\n        console.log(\"Your bear is ready to save the day in a Superhero costume!\");\n        break;\n    case \"Cheerleader\":\n        console.log(\"Your bear will cheer with its Cheerleader outfit!\");\n        break;\n    case \"Pirate\":\n        console.log(\"Ahoy! Your bear is ready to sail in a Pirate costume!\");\n        break;\n    default:\n        console.log(\"Your bear is ready for a royal adventure in a Princess outfit!\");\n}\n",
      "text/plain": [
       "<IPython.core.display.Javascript object>"
      ]
     },
     "metadata": {},
     "output_type": "display_data"
    }
   ],
   "source": [
    "%%js\n",
    "let bearOutfit = \"Superhero\"; // Choose an outfit: \"Superhero\", \"Cheerleader\", \"Pirate\", \"Princess\"\n",
    "\n",
    "switch (bearOutfit) {\n",
    "    case \"Superhero\":\n",
    "        console.log(\"Your bear is ready to save the day in a Superhero costume!\");\n",
    "        break;\n",
    "    case \"Cheerleader\":\n",
    "        console.log(\"Your bear will cheer with its Cheerleader outfit!\");\n",
    "        break;\n",
    "    case \"Pirate\":\n",
    "        console.log(\"Ahoy! Your bear is ready to sail in a Pirate costume!\");\n",
    "        break;\n",
    "    default:\n",
    "        console.log(\"Your bear is ready for a royal adventure in a Princess outfit!\");\n",
    "}\n"
   ]
  },
  {
   "cell_type": "markdown",
   "metadata": {},
   "source": [
    "### Hack 5: Complete Build-A-Bear Experience\n",
    "Combine all conditionals to create new types of bears, stuffings, and outfits in a single code cell!"
   ]
  },
  {
   "cell_type": "code",
   "execution_count": 2,
   "metadata": {
    "vscode": {
     "languageId": "javascript"
    }
   },
   "outputs": [
    {
     "data": {
      "application/javascript": "let bearType = \"freddy fazbear\"; //Make a type of bear!\nlet stuffingType = \"fluffy\"; //Choose a type of stuffing!\nlet bearOutfit = \"sigma\"; //Create your own outfit!\n\n// Step 1: Choose Me\nif (bearType === \"freddy fazbear\") { //Choose a bear type\n    console.log(\"aur aur aur aur freddy fazbear\"); //Create a console message for the specified bear type\n} else if (bearType === \"chicken\") {\n    console.log(\"hey where yo reddy fazbear at\");\n} else {\n    console.log(\"thats not freddy fazbear\");\n}\n\n//Repeat these steps. When finished, you should be able to choose your own type of bear, stuffing, and outfit within a single code cell. Be creative and have fun!!!\n// Step 2: Hear Me\nif (bearType === \"freddy fazbear\") {\n    console.log(\"aur aur aur aur freddy fazbear\");\n} else {\n    console.log(\"thats not freddy fazbear\");\n}\n\n// Step 3: Stuff Me\nif (stuffingType === \"fluffy\") {\n    console.log(\"fluffy freddy fazbear aur aur\");\n} else if (stuffingType === \"firm\") {\n    console.log(\"freddy fazbear is not firm whats wrong with you\");\n} else {\n    console.log(\"thats not freddy fazbear at all >:(\");\n}\n\n// Step 4: Dress Me\nswitch (bearOutfit) {\n    case \"sigma\":\n        console.log(\"wow thats so skibidi\");\n        break;\n    case \"princess\":\n        console.log(\"pretty princess core\");\n        break;\n    case \"pirate\":\n        console.log(\"youre not foxy the pirate..\");\n        break;\n    default:\n        console.log(\"aur aur aur aur\");\n}\n",
      "text/plain": [
       "<IPython.core.display.Javascript object>"
      ]
     },
     "metadata": {},
     "output_type": "display_data"
    }
   ],
   "source": [
    "%%js\n",
    "let bearType = \"freddy fazbear\"; //Make a type of bear!\n",
    "let stuffingType = \"fluffy\"; //Choose a type of stuffing!\n",
    "let bearOutfit = \"sigma\"; //Create your own outfit!\n",
    "\n",
    "// Step 1: Choose Me\n",
    "if (bearType === \"freddy fazbear\") { //Choose a bear type\n",
    "    console.log(\"aur aur aur aur freddy fazbear\"); //Create a console message for the specified bear type\n",
    "} else if (bearType === \"chicken\") {\n",
    "    console.log(\"im freddy fazbear\");\n",
    "} else {\n",
    "    console.log(\"im not freddy fazbear\");\n",
    "}\n",
    "\n",
    "//Repeat these steps. When finished, you should be able to choose your own type of bear, stuffing, and outfit within a single code cell. Be creative and have fun!!!\n",
    "// Step 2: Hear Me\n",
    "if (bearType === \"freddy fazbear\") {\n",
    "    console.log(\"aur aur aur aur freddy fazbear\");\n",
    "} else {\n",
    "    console.log(\"thats not freddy fazbear\");\n",
    "}\n",
    "\n",
    "// Step 3: Stuff Me\n",
    "if (stuffingType === \"fluffy\") {\n",
    "    console.log(\"fluffy freddy fazbear aur aur\");\n",
    "} else if (stuffingType === \"firm\") {\n",
    "    console.log(\"freddy fazbear is not firm whats wrong with you\");\n",
    "} else {\n",
    "    console.log(\"thats not freddy fazbear at all >:(\");\n",
    "}\n",
    "\n",
    "// Step 4: Dress Me\n",
    "switch (bearOutfit) {\n",
    "    case \"sigma\":\n",
    "        console.log(\"sigma sigma boy sigma boy\");\n",
    "        break;\n",
    "    case \"princess\":\n",
    "        console.log(\"princess peach wrong game\");\n",
    "        break;\n",
    "    case \"pirate\":\n",
    "        console.log(\"Foxy the pirate get back in the cove\");\n",
    "        break;\n",
    "    default:\n",
    "        console.log(\"...\");\n",
    "}\n"
   ]
  }
 ],
 "metadata": {
  "kernelspec": {
   "display_name": "Python 3",
   "language": "python",
   "name": "python3"
  },
  "language_info": {
   "codemirror_mode": {
    "name": "ipython",
    "version": 3
   },
   "file_extension": ".py",
   "mimetype": "text/x-python",
   "name": "python",
   "nbconvert_exporter": "python",
   "pygments_lexer": "ipython3",
   "version": "3.13.1"
  }
 },
 "nbformat": 4,
 "nbformat_minor": 2
}
