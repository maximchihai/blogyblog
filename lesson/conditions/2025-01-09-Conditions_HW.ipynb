{
 "cells": [
  {
   "cell_type": "code",
   "execution_count": null,
   "metadata": {},
   "outputs": [],
   "source": [
    "---\n",
    "layout: post\n",
    "title: Homework\n",
    "description: Homework after condition lesson \n",
    "categories: [CSSE JavaScript Fundamentals]\n",
    "courses: { csse: {week: 0}, csp: {week: 0 }, csa: {week: 0}}\n",
    "type: collab\n",
    "permalink: /Conditions_HW\n",
    "author: Yasna Ahmadi, Katherine Law, Yuna Lee, Namira Sharif\n",
    "toc: true\n",
    "---"
   ]
  },
  {
   "cell_type": "markdown",
   "metadata": {},
   "source": [
    "\n",
    "## Homeworks  \n",
    "\n",
    "\n",
    "### Part 1:\n",
    " Choose one from the three options to make a conditonal statement and if help is needed, use the Format at the bottom of the page.\n",
    "\n",
    "#### Option 1: Grade Checker \n",
    "Example for the grade checker:\n",
    "\n",
    "\"F\" if the grade is below 60.\n",
    "\"D\" if the grade is between 60 and 69.\n",
    "\"C\" if the grade is between 70 and 79.\n",
    "\"B\" if the grade is between 80 and 89.\n",
    "\"A\" if the grade is 90 or above.\n",
    "\n",
    "#### Option 2: Weather app\n",
    "Example for a weather app:\n",
    "\n",
    "If the weather is sunny, print: \"It's a great day to go outside!\"\n",
    "If the weather is rainy, print: \"Don't forget your umbrella!\"\n",
    "If the weather is snowy, print: \"Stay warm and safe!\"\n",
    "\n",
    "#### Option 3: Character Health Status\n",
    "Example for a character health status:\n",
    "\n",
    "If the health is 0, print: \"Your character is dead.\"\n",
    "If the health is between 1 and 25, print: \"Critical condition! Find a health pack!\"\n",
    "If the health is between 26 and 75, print: \"Your character is wounded. Be cautious.\"\n",
    "If the health is above 75, print: \"Your character is healthy and ready for action!\"\n",
    "\n",
    "### Part 2:\n",
    " Make another conditional statement with your idea.\n",
    "\n",
    " Make any If-Then, If, or Then-If statements with different ideas.\n",
    "\n",
    "\n",
    "##### Format: "
   ]
  },
  {
   "cell_type": "code",
   "execution_count": null,
   "metadata": {
    "vscode": {
     "languageId": "javascript"
    }
   },
   "outputs": [],
   "source": [
    "let yourVariable = \"\"; // Change this to your input or value\n",
    "\n",
    "if (/* your first condition */) {\n",
    "    console.log(/* your first output */);\n",
    "} else if (/* your second condition */) {\n",
    "    console.log(/* your second output */);\n",
    "} else {\n",
    "    console.log(/* your default output */);\n",
    "}"
   ]
  },
  {
   "cell_type": "markdown",
   "metadata": {
    "vscode": {
     "languageId": "raw"
    }
   },
   "source": [
    "##### After testing any of the options, revise it and make another one from the options.\n"
   ]
  },
  {
   "cell_type": "code",
   "execution_count": 4,
   "metadata": {
    "vscode": {
     "languageId": "javascript"
    }
   },
   "outputs": [
    {
     "data": {
      "application/javascript": "// grade checker \nlet grade = 85;\n\nif (grade < 60) {\n    console.log(\"F.. put your phone away study harder so you can not work at 7/11\");\n} else if (grade >= 60 && grade <= 69) {\n    console.log(\"D.. hey now shouldnt you be trying harder than this?\");\n} else if (grade >= 70 && grade <= 79) {\n    console.log(\"C.. I guess it's alright but you need to get this up\");\n} else if (grade >= 80 && grade <= 89) {\n    console.log(\"B.. not bad brother\");\n} else {\n    console.log(\"A.. bro you are an academic weapon frfr\");\n}\n\n//the grade will be a B, meaning that the grade B message should pop up in the terminal \n",
      "text/plain": [
       "<IPython.core.display.Javascript object>"
      ]
     },
     "metadata": {},
     "output_type": "display_data"
    }
   ],
   "source": [
    "%%js \n",
    "// grade checker \n",
    "let grade = 85;\n",
    "\n",
    "if (grade < 60) {\n",
    "    console.log(\"F.. put your phone away study harder so you can not work at 7/11\");\n",
    "} else if (grade >= 60 && grade <= 69) {\n",
    "    console.log(\"D.. hey now shouldnt you be trying harder than this?\");\n",
    "} else if (grade >= 70 && grade <= 79) {\n",
    "    console.log(\"C.. I guess it's alright but you need to get this up\");\n",
    "} else if (grade >= 80 && grade <= 89) {\n",
    "    console.log(\"B.. not bad brother\");\n",
    "} else {\n",
    "    console.log(\"A.. bro you are an academic weapon frfr\");\n",
    "}\n",
    "\n",
    "//the grade will be a B, meaning that the grade B message should pop up in the terminal "
   ]
  },
  {
   "cell_type": "code",
   "execution_count": 3,
   "metadata": {
    "vscode": {
     "languageId": "javascript"
    }
   },
   "outputs": [
    {
     "data": {
      "application/javascript": "\nlet cat = \"jimmy\"; // Change this to your input or value\nlet otherCat = \"not jimmy\";\n\nif (cat === \"elliot\") {\n    console.log(\"I LOVE MY CAT HES THE BEST CAT IN THE WORLD\");\n} else if (otherCat === \"not elliot\") {\n    console.log(\"that's not elliot.\");\n} else {\n    console.log(\"cutie cat\");\n}\n",
      "text/plain": [
       "<IPython.core.display.Javascript object>"
      ]
     },
     "metadata": {},
     "output_type": "display_data"
    }
   ],
   "source": [
    "%%js\n",
    "\n",
    "let cat = \"jimmy\"; // Change this to your input or value\n",
    "let otherCat = \"not jimmy\";\n",
    "\n",
    "if (cat === \"jimmy\") {\n",
    "    console.log(\"its jimmy\");\n",
    "} else if (otherCat === \"not jimmy\") {\n",
    "    console.log(\"that's not jimmy.\");\n",
    "} else {\n",
    "    console.log(\"cutie cat\");\n",
    "}\n"
   ]
  }
 ],
 "metadata": {
  "kernelspec": {
   "display_name": "Python 3",
   "language": "python",
   "name": "python3"
  },
  "language_info": {
   "codemirror_mode": {
    "name": "ipython",
    "version": 3
   },
   "file_extension": ".py",
   "mimetype": "text/x-python",
   "name": "python",
   "nbconvert_exporter": "python",
   "pygments_lexer": "ipython3",
   "version": "3.13.1"
  }
 },
 "nbformat": 4,
 "nbformat_minor": 2
}
